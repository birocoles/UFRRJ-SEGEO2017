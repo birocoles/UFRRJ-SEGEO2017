{
 "cells": [
  {
   "cell_type": "code",
   "execution_count": 1,
   "metadata": {
    "collapsed": true
   },
   "outputs": [],
   "source": [
    "import matplotlib"
   ]
  },
  {
   "cell_type": "code",
   "execution_count": 2,
   "metadata": {},
   "outputs": [
    {
     "name": "stdout",
     "output_type": "stream",
     "text": [
      "[u'GTK', u'GTKAgg', u'GTKCairo', u'MacOSX', u'Qt4Agg', u'Qt5Agg', u'TkAgg', u'WX', u'WXAgg', u'GTK3Cairo', u'GTK3Agg', u'WebAgg', u'nbAgg', u'agg', u'cairo', u'gdk', u'pdf', u'pgf', u'ps', u'svg', u'template']\n"
     ]
    }
   ],
   "source": [
    "print matplotlib.rcsetup.all_backends"
   ]
  },
  {
   "cell_type": "code",
   "execution_count": 3,
   "metadata": {},
   "outputs": [
    {
     "name": "stdout",
     "output_type": "stream",
     "text": [
      "Using matplotlib backend: Qt5Agg\n"
     ]
    }
   ],
   "source": [
    "%matplotlib"
   ]
  },
  {
   "cell_type": "code",
   "execution_count": 4,
   "metadata": {
    "collapsed": true
   },
   "outputs": [],
   "source": [
    "import matplotlib.pyplot as plt\n",
    "from matplotlib.patches import Polygon"
   ]
  },
  {
   "cell_type": "code",
   "execution_count": 5,
   "metadata": {
    "collapsed": true
   },
   "outputs": [],
   "source": [
    "\"\"\"\n",
    "This is an example to show how to build cross-GUI applications using\n",
    "matplotlib event handling to interact with objects on the canvas\n",
    "\n",
    "\"\"\"\n",
    "import numpy as np\n",
    "from matplotlib.lines import Line2D\n",
    "from matplotlib.artist import Artist\n",
    "from matplotlib.mlab import dist_point_to_segment"
   ]
  },
  {
   "cell_type": "code",
   "execution_count": 6,
   "metadata": {
    "collapsed": true
   },
   "outputs": [],
   "source": [
    "class PolygonInteractor(object):\n",
    "    \"\"\"\n",
    "    An polygon editor.\n",
    "\n",
    "    Key-bindings\n",
    "\n",
    "      't' toggle vertex markers on and off.  When vertex markers are on,\n",
    "          you can move them, delete them\n",
    "\n",
    "      'd' delete the vertex under point\n",
    "\n",
    "      'i' insert a vertex at point.  You must be within epsilon of the\n",
    "          line connecting two existing vertices\n",
    "\n",
    "    \"\"\"\n",
    "\n",
    "    showverts = True\n",
    "    epsilon = 5  # max pixel distance to count as a vertex hit\n",
    "\n",
    "    def __init__(self, ax, poly):\n",
    "        if poly.figure is None:\n",
    "            raise RuntimeError('You must first add the polygon to a figure or canvas before defining the interactor')\n",
    "        self.ax = ax\n",
    "        canvas = poly.figure.canvas\n",
    "        self.poly = poly\n",
    "\n",
    "        x, y = zip(*self.poly.xy)\n",
    "        self.line = Line2D(x, y, marker='o', markerfacecolor='r', animated=True)\n",
    "        self.ax.add_line(self.line)\n",
    "        #self._update_line(poly)\n",
    "\n",
    "        cid = self.poly.add_callback(self.poly_changed)\n",
    "        self._ind = None  # the active vert\n",
    "\n",
    "        canvas.mpl_connect('draw_event', self.draw_callback)\n",
    "        canvas.mpl_connect('button_press_event', self.button_press_callback)\n",
    "        canvas.mpl_connect('key_press_event', self.key_press_callback)\n",
    "        canvas.mpl_connect('button_release_event', self.button_release_callback)\n",
    "        canvas.mpl_connect('motion_notify_event', self.motion_notify_callback)\n",
    "        self.canvas = canvas\n",
    "\n",
    "    def draw_callback(self, event):\n",
    "        self.background = self.canvas.copy_from_bbox(self.ax.bbox)\n",
    "        self.ax.draw_artist(self.poly)\n",
    "        self.ax.draw_artist(self.line)\n",
    "        self.canvas.blit(self.ax.bbox)\n",
    "\n",
    "    def poly_changed(self, poly):\n",
    "        'this method is called whenever the polygon object is called'\n",
    "        # only copy the artist props to the line (except visibility)\n",
    "        vis = self.line.get_visible()\n",
    "        Artist.update_from(self.line, poly)\n",
    "        self.line.set_visible(vis)  # don't use the poly visibility state\n",
    "\n",
    "    def get_ind_under_point(self, event):\n",
    "        'get the index of the vertex under point if within epsilon tolerance'\n",
    "\n",
    "        # display coords\n",
    "        xy = np.asarray(self.poly.xy)\n",
    "        xyt = self.poly.get_transform().transform(xy)\n",
    "        xt, yt = xyt[:, 0], xyt[:, 1]\n",
    "        d = np.sqrt((xt - event.x)**2 + (yt - event.y)**2)\n",
    "        indseq = np.nonzero(np.equal(d, np.amin(d)))[0]\n",
    "        ind = indseq[0]\n",
    "\n",
    "        if d[ind] >= self.epsilon:\n",
    "            ind = None\n",
    "\n",
    "        return ind\n",
    "\n",
    "    def button_press_callback(self, event):\n",
    "        'whenever a mouse button is pressed'\n",
    "        if not self.showverts:\n",
    "            return\n",
    "        if event.inaxes is None:\n",
    "            return\n",
    "        if event.button != 1:\n",
    "            return\n",
    "        self._ind = self.get_ind_under_point(event)\n",
    "\n",
    "    def button_release_callback(self, event):\n",
    "        'whenever a mouse button is released'\n",
    "        if not self.showverts:\n",
    "            return\n",
    "        if event.button != 1:\n",
    "            return\n",
    "        self._ind = None\n",
    "\n",
    "    def key_press_callback(self, event):\n",
    "        'whenever a key is pressed'\n",
    "        if not event.inaxes:\n",
    "            return\n",
    "        if event.key == 't':\n",
    "            self.showverts = not self.showverts\n",
    "            self.line.set_visible(self.showverts)\n",
    "            if not self.showverts:\n",
    "                self._ind = None\n",
    "        elif event.key == 'd':\n",
    "            ind = self.get_ind_under_point(event)\n",
    "            if ind is not None:\n",
    "                self.poly.xy = [tup for i, tup in enumerate(self.poly.xy) if i != ind]\n",
    "                self.line.set_data(zip(*self.poly.xy))\n",
    "        elif event.key == 'i':\n",
    "            xys = self.poly.get_transform().transform(self.poly.xy)\n",
    "            p = event.x, event.y  # display coords\n",
    "            for i in range(len(xys) - 1):\n",
    "                s0 = xys[i]\n",
    "                s1 = xys[i + 1]\n",
    "                d = dist_point_to_segment(p, s0, s1)\n",
    "                if d <= self.epsilon:\n",
    "                    self.poly.xy = np.array(\n",
    "                        list(self.poly.xy[:i]) +\n",
    "                        [(event.xdata, event.ydata)] +\n",
    "                        list(self.poly.xy[i:]))\n",
    "                    self.line.set_data(zip(*self.poly.xy))\n",
    "                    break\n",
    "\n",
    "        self.canvas.draw()\n",
    "\n",
    "    def motion_notify_callback(self, event):\n",
    "        'on mouse movement'\n",
    "        if not self.showverts:\n",
    "            return\n",
    "        if self._ind is None:\n",
    "            return\n",
    "        if event.inaxes is None:\n",
    "            return\n",
    "        if event.button != 1:\n",
    "            return\n",
    "        x, y = event.xdata, event.ydata\n",
    "\n",
    "        self.poly.xy[self._ind] = x, y\n",
    "        if self._ind == 0:\n",
    "            self.poly.xy[-1] = x, y\n",
    "        elif self._ind == len(self.poly.xy) - 1:\n",
    "            self.poly.xy[0] = x, y\n",
    "        self.line.set_data(zip(*self.poly.xy))\n",
    "\n",
    "        self.canvas.restore_region(self.background)\n",
    "        self.ax.draw_artist(self.poly)\n",
    "        self.ax.draw_artist(self.line)\n",
    "        self.canvas.blit(self.ax.bbox)"
   ]
  },
  {
   "cell_type": "code",
   "execution_count": null,
   "metadata": {
    "collapsed": true
   },
   "outputs": [],
   "source": [
    "#if __name__ == '__main__':\n",
    "#    import matplotlib.pyplot as plt\n",
    "#    from matplotlib.patches import Polygon"
   ]
  },
  {
   "cell_type": "code",
   "execution_count": 7,
   "metadata": {},
   "outputs": [],
   "source": [
    "theta = np.arange(0, 2*np.pi, 0.1)\n",
    "r = 1.5\n",
    "\n",
    "xs = r*np.cos(theta)\n",
    "ys = r*np.sin(theta)\n",
    "\n",
    "poly = Polygon(list(zip(xs, ys)), animated=True)\n",
    "\n",
    "fig, ax = plt.subplots()\n",
    "ax.add_patch(poly)\n",
    "p = PolygonInteractor(ax, poly)\n",
    "\n",
    "#ax.add_line(p.line)\n",
    "ax.set_title('Click and drag a point to move it')\n",
    "ax.set_xlim((-2, 2))\n",
    "ax.set_ylim((-2, 2))\n",
    "plt.show()"
   ]
  },
  {
   "cell_type": "code",
   "execution_count": null,
   "metadata": {
    "collapsed": true
   },
   "outputs": [],
   "source": []
  }
 ],
 "metadata": {
  "kernelspec": {
   "display_name": "Python 2",
   "language": "python",
   "name": "python2"
  },
  "language_info": {
   "codemirror_mode": {
    "name": "ipython",
    "version": 2
   },
   "file_extension": ".py",
   "mimetype": "text/x-python",
   "name": "python",
   "nbconvert_exporter": "python",
   "pygments_lexer": "ipython2",
   "version": "2.7.13"
  }
 },
 "nbformat": 4,
 "nbformat_minor": 2
}
