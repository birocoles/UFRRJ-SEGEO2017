{
 "cells": [
  {
   "cell_type": "markdown",
   "metadata": {},
   "source": [
    "# Inversão do gradiente da gravidade para corpo isolado"
   ]
  },
  {
   "cell_type": "markdown",
   "metadata": {},
   "source": [
    "Este código está escrito em linguagem [Python](https://www.python.org/) e utiliza o subpacote [gravmag](http://www.fatiando.org/api/gravmag.html#module-fatiando.gravmag) do [Fatiando a Terra](http://www.fatiando.org/index.html)."
   ]
  },
  {
   "cell_type": "code",
   "execution_count": null,
   "metadata": {
    "collapsed": true
   },
   "outputs": [],
   "source": [
    "import matplotlib"
   ]
  },
  {
   "cell_type": "code",
   "execution_count": null,
   "metadata": {},
   "outputs": [],
   "source": [
    "matplotlib.use('TkAgg', force = True)\n",
    "matplotlib.get_backend()"
   ]
  },
  {
   "cell_type": "code",
   "execution_count": null,
   "metadata": {},
   "outputs": [],
   "source": [
    "from fatiando import gridder, utils, mesher\n",
    "from fatiando.gravmag import prism, harvester, polyprism\n",
    "from fatiando.mesher import Prism, PrismMesh, vremove\n",
    "from fatiando.vis import mpl, myv"
   ]
  },
  {
   "cell_type": "code",
   "execution_count": null,
   "metadata": {
    "collapsed": true
   },
   "outputs": [],
   "source": [
    "import numpy as np"
   ]
  },
  {
   "cell_type": "code",
   "execution_count": null,
   "metadata": {
    "collapsed": true
   },
   "outputs": [],
   "source": [
    "bounds = [0, 5000, 0, 5000, 0, 2000]\n",
    "area = bounds[:4]"
   ]
  },
  {
   "cell_type": "code",
   "execution_count": null,
   "metadata": {
    "collapsed": true
   },
   "outputs": [],
   "source": [
    "N = 30\n",
    "t = np.linspace(0., 2*np.pi, N)\n",
    "a = 1700\n",
    "b = 1000\n",
    "x0 = 2100.\n",
    "y0 = 2800.\n",
    "theta = np.deg2rad(35.)"
   ]
  },
  {
   "cell_type": "code",
   "execution_count": null,
   "metadata": {
    "collapsed": true
   },
   "outputs": [],
   "source": [
    "vertices_perturbation = 0.3\n",
    "\n",
    "vertices_x = a*np.cos(t)*np.cos(theta) - b*np.sin(t)*np.sin(theta) + x0 + \\\n",
    "             vertices_perturbation*a*np.random.rand(N)*np.cos(t)*np.cos(theta) - \\\n",
    "             vertices_perturbation*b*np.random.rand(N)*np.sin(t)*np.sin(theta)\n",
    "vertices_y = a*np.cos(t)*np.sin(theta) + b*np.sin(t)*np.cos(theta) + y0 + \\\n",
    "             vertices_perturbation*a*np.random.rand(N)*np.cos(t)*np.sin(theta) + \\\n",
    "             vertices_perturbation*b*np.random.rand(N)*np.cos(t)*np.cos(theta)\n",
    "vertices = np.vstack([vertices_x, vertices_y]).T\n",
    "model = [mesher.PolygonalPrism(vertices, 300, 1000, {'density': 700})]"
   ]
  },
  {
   "cell_type": "code",
   "execution_count": null,
   "metadata": {
    "collapsed": true
   },
   "outputs": [],
   "source": [
    "# plot the model\n",
    "myv.figure()\n",
    "myv.polyprisms(model, 'density')\n",
    "myv.axes(myv.outline(bounds), ranges=[i * 0.001 for i in bounds],\n",
    "         fmt='%.1f', nlabels=3)\n",
    "myv.wall_bottom(bounds)\n",
    "myv.wall_north(bounds)\n",
    "myv.savefig('model.png', magnification=2)\n",
    "myv.show()"
   ]
  },
  {
   "cell_type": "code",
   "execution_count": null,
   "metadata": {
    "collapsed": true
   },
   "outputs": [],
   "source": [
    "# and use it to generate some tensor data\n",
    "shape = (51, 51)\n",
    "area = bounds[0:4]\n",
    "noise = 2\n",
    "x, y, z = gridder.regular(area, shape, z=-150)\n",
    "gxz = utils.contaminate(polyprism.gxz(x, y, z, model), noise)\n",
    "gyz = utils.contaminate(polyprism.gyz(x, y, z, model), noise)\n",
    "gzz = utils.contaminate(polyprism.gzz(x, y, z, model), noise)"
   ]
  },
  {
   "cell_type": "code",
   "execution_count": null,
   "metadata": {},
   "outputs": [],
   "source": [
    "# plot it\n",
    "\n",
    "mpl.close('all')\n",
    "mpl.figure(figsize=(5, 12))\n",
    "mpl.axis('scaled')\n",
    "\n",
    "mpl.subplot(3, 1, 1)\n",
    "mpl.title(\"gxz\")\n",
    "levels = mpl.contourf(y * 0.001, x * 0.001, gxz, shape, 12,\n",
    "                     cmap = mpl.get_cmap('bwr'))\n",
    "mpl.colorbar()\n",
    "mpl.xlabel('Horizontal coordinate y (km)')\n",
    "mpl.ylabel('Horizontal coordinate x (km)')\n",
    "\n",
    "mpl.subplot(3, 1, 2)\n",
    "mpl.title(\"gyz\")\n",
    "levels = mpl.contourf(y * 0.001, x * 0.001, gyz, shape, 12,\n",
    "                     cmap = mpl.get_cmap('bwr'))\n",
    "mpl.colorbar()\n",
    "mpl.xlabel('Horizontal coordinate y (km)')\n",
    "mpl.ylabel('Horizontal coordinate x (km)')\n",
    "\n",
    "mpl.subplot(3, 1, 3)\n",
    "mpl.title(\"gzz\")\n",
    "levels = mpl.contourf(y * 0.001, x * 0.001, gzz, shape, 12,\n",
    "                     cmap = mpl.get_cmap('bwr'))\n",
    "mpl.colorbar()\n",
    "mpl.xlabel('Horizontal coordinate y (km)')\n",
    "mpl.ylabel('Horizontal coordinate x (km)')\n",
    "\n",
    "mpl.tight_layout()\n",
    "mpl.savefig('data.png')\n",
    "mpl.show()"
   ]
  },
  {
   "cell_type": "code",
   "execution_count": null,
   "metadata": {
    "collapsed": true
   },
   "outputs": [],
   "source": [
    "# Set up the inversion:\n",
    "# Create a prism mesh\n",
    "mesh = PrismMesh(bounds, (10, 25, 25))\n",
    "# Wrap the data so that harvester can use it\n",
    "data = [harvester.Gxz(x, y, z, gxz),\n",
    "        harvester.Gyz(x, y, z, gyz),\n",
    "        harvester.Gzz(x, y, z, gzz)]"
   ]
  },
  {
   "cell_type": "code",
   "execution_count": null,
   "metadata": {
    "collapsed": true
   },
   "outputs": [],
   "source": [
    "# Plot the data and pick the location of the seeds\n",
    "mpl.figure()\n",
    "mpl.suptitle(\"Pick the seeds (polygon is the true source)\")\n",
    "mpl.axis('scaled')\n",
    "levels = mpl.contourf(y, x, gzz, shape, 12,\n",
    "                      cmap = mpl.get_cmap('bwr'))\n",
    "mpl.colorbar()\n",
    "#mpl.polygon(model[0], xy2ne=True)\n",
    "mpl.xlabel('Horizontal coordinate y (km)')\n",
    "mpl.ylabel('Horizontal coordinate x (km)')\n",
    "seedx, seedy = mpl.pick_points(area, mpl.gca(), xy2ne=True).T"
   ]
  },
  {
   "cell_type": "code",
   "execution_count": null,
   "metadata": {
    "collapsed": true
   },
   "outputs": [],
   "source": [
    "# Set the right density and depth\n",
    "locations = [[xs, ys, 500, {'density': 700}] for xs, ys in zip(seedx, seedy)]"
   ]
  },
  {
   "cell_type": "code",
   "execution_count": null,
   "metadata": {
    "collapsed": true
   },
   "outputs": [],
   "source": [
    "# Make the seed and set the compactness regularizing parameter mu\n",
    "seeds = harvester.sow(locations, mesh)"
   ]
  },
  {
   "cell_type": "code",
   "execution_count": null,
   "metadata": {},
   "outputs": [],
   "source": [
    "# plot the model and the seeds\n",
    "myv.figure()\n",
    "myv.polyprisms(model, 'density', opacity=0.3)\n",
    "myv.prisms(seeds, 'density', vmin = 0)\n",
    "myv.axes(myv.outline(bounds), ranges=[i * 0.001 for i in bounds],\n",
    "         fmt='%.1f', nlabels=3)\n",
    "myv.wall_bottom(bounds)\n",
    "myv.wall_north(bounds)\n",
    "myv.savefig('model_seeds.png', magnification=2)\n",
    "myv.show()"
   ]
  },
  {
   "cell_type": "code",
   "execution_count": null,
   "metadata": {
    "collapsed": true
   },
   "outputs": [],
   "source": [
    "# Run the inversion and collect the results\n",
    "estimate, predicted = harvester.harvest(data, seeds, mesh,\n",
    "                                        #compactness=1., threshold=0.0001)\n",
    "                                        compactness=1.1, threshold=0.001)"
   ]
  },
  {
   "cell_type": "code",
   "execution_count": null,
   "metadata": {},
   "outputs": [],
   "source": [
    "# Insert the estimated density values into the mesh\n",
    "mesh.addprop('density', estimate['density'])\n",
    "# and get only the prisms corresponding to our estimate\n",
    "density_model = vremove(0, 'density', mesh)\n",
    "print \"Accretions: %d\" % (len(density_model) - len(seeds))"
   ]
  },
  {
   "cell_type": "code",
   "execution_count": null,
   "metadata": {
    "collapsed": true
   },
   "outputs": [],
   "source": [
    "# Get the predicted data from the data modules\n",
    "tensor = (gxz, gyz, gzz)"
   ]
  },
  {
   "cell_type": "code",
   "execution_count": null,
   "metadata": {},
   "outputs": [],
   "source": [
    "# plot it\n",
    "\n",
    "mpl.figure(figsize=(10, 12))\n",
    "mpl.axis('scaled')\n",
    "\n",
    "i = 1\n",
    "\n",
    "for true, pred in zip(tensor, predicted):\n",
    "\n",
    "    mpl.subplot(3, 2, i)\n",
    "    mpl.title(\"True: color | Inversion: contour\")\n",
    "    levels = mpl.contourf(y * 0.001, x * 0.001, true, shape, 12,\n",
    "                          cmap = mpl.get_cmap('bwr'))\n",
    "    mpl.colorbar()\n",
    "    mpl.contour(y * 0.001, x * 0.001, pred, shape, levels, color='k')\n",
    "    mpl.xlabel('Horizontal coordinate y (km)')\n",
    "    mpl.ylabel('Horizontal coordinate x (km)')\n",
    "    mpl.subplot(3, 2, i+1)\n",
    "    mpl.title(\"Residuals\")\n",
    "    levels = mpl.contourf(y * 0.001, x * 0.001, pred - true, shape, 12,\n",
    "                          cmap = mpl.get_cmap('bwr'))\n",
    "    mpl.colorbar()\n",
    "    mpl.xlabel('Horizontal coordinate y (km)')\n",
    "    mpl.ylabel('Horizontal coordinate x (km)')\n",
    "    i += 2\n",
    "\n",
    "mpl.tight_layout()\n",
    "mpl.savefig('datafit.png')\n",
    "mpl.show()"
   ]
  },
  {
   "cell_type": "code",
   "execution_count": null,
   "metadata": {},
   "outputs": [],
   "source": [
    "# Plot the inversion result\n",
    "myv.figure()\n",
    "myv.polyprisms(model, 'density', style='wireframe', linewidth=2)\n",
    "myv.prisms(density_model, 'density', vmin=0, opacity=0.4, edges=False)\n",
    "myv.axes(myv.outline(bounds), ranges=[i * 0.001 for i in bounds], fmt='%.1f',\n",
    "         nlabels=6)\n",
    "myv.wall_bottom(bounds)\n",
    "myv.wall_north(bounds)\n",
    "myv.savefig('estimate.png')\n",
    "myv.show()"
   ]
  },
  {
   "cell_type": "code",
   "execution_count": null,
   "metadata": {
    "collapsed": true
   },
   "outputs": [],
   "source": []
  }
 ],
 "metadata": {
  "kernelspec": {
   "display_name": "Python 2",
   "language": "python",
   "name": "python2"
  },
  "language_info": {
   "codemirror_mode": {
    "name": "ipython",
    "version": 2
   },
   "file_extension": ".py",
   "mimetype": "text/x-python",
   "name": "python",
   "nbconvert_exporter": "python",
   "pygments_lexer": "ipython2",
   "version": "2.7.13"
  }
 },
 "nbformat": 4,
 "nbformat_minor": 2
}
