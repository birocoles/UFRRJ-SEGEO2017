{
 "cells": [
  {
   "cell_type": "markdown",
   "metadata": {},
   "source": [
    "# Corpo sintético isolado"
   ]
  },
  {
   "cell_type": "markdown",
   "metadata": {},
   "source": [
    "Este código utiliza o [Fatiando a Terra](http://www.fatiando.org/index.html) para gerar um corpo sintético isolado."
   ]
  },
  {
   "cell_type": "code",
   "execution_count": 1,
   "metadata": {
    "collapsed": true
   },
   "outputs": [],
   "source": [
    "import matplotlib"
   ]
  },
  {
   "cell_type": "code",
   "execution_count": 2,
   "metadata": {},
   "outputs": [
    {
     "name": "stdout",
     "output_type": "stream",
     "text": [
      "TkAgg\n"
     ]
    }
   ],
   "source": [
    "matplotlib.use('TkAgg', force = True) # evita problema com o backend do matplotlib\n",
    "print matplotlib.get_backend()"
   ]
  },
  {
   "cell_type": "code",
   "execution_count": 3,
   "metadata": {},
   "outputs": [
    {
     "name": "stderr",
     "output_type": "stream",
     "text": [
      "/home/vanderlei/anaconda2/envs/SEGEO2017/lib/python2.7/site-packages/fatiando/vis/myv.py:51: UserWarning: This module will be removed in v0.7.\n",
      "  warnings.warn(\"This module will be removed in v0.7.\")\n",
      "/home/vanderlei/anaconda2/envs/SEGEO2017/lib/python2.7/site-packages/fatiando/vis/mpl.py:76: UserWarning: This module will be removed in v0.6. We recommend the use of matplotlib.pyplot module directly. Some of the fatiando specific functions will remain.\n",
      "  \"specific functions will remain.\")\n"
     ]
    }
   ],
   "source": [
    "import numpy as np\n",
    "import matplotlib.pyplot as plt\n",
    "import cPickle as pickle\n",
    "import datetime\n",
    "from __future__ import division\n",
    "\n",
    "import fatiando\n",
    "from fatiando import gridder, mesher\n",
    "from fatiando.mesher import PolygonalPrism\n",
    "from fatiando.gridder import regular\n",
    "from fatiando.vis import myv, mpl\n",
    "from fatiando.utils import ang2vec, contaminate\n",
    "\n",
    "plt.rc('font', size=14)"
   ]
  },
  {
   "cell_type": "code",
   "execution_count": 4,
   "metadata": {
    "collapsed": true
   },
   "outputs": [],
   "source": [
    "# Contraste de densidade em Kg/m**3\n",
    "dens = 600\n",
    "\n",
    "# Magnetização total do corpo\n",
    "intens = 8 # intensidade (A/m)\n",
    "inc = -30 # inclinação (graus)\n",
    "dec = 10 # declinação (graus)"
   ]
  },
  {
   "cell_type": "code",
   "execution_count": 5,
   "metadata": {
    "collapsed": true
   },
   "outputs": [],
   "source": [
    "# Define a área ocupada pelo corpo\n",
    "bounds = [0, 5000, 1000, 6000, 0, 2000]\n",
    "area = bounds[:4]"
   ]
  },
  {
   "cell_type": "code",
   "execution_count": 6,
   "metadata": {
    "collapsed": true
   },
   "outputs": [],
   "source": [
    "# Cria o corpo de forma iterativa\n",
    "plt.close('all')\n",
    "axes = plt.figure().gca()\n",
    "plt.axis('scaled')\n",
    "model = [mesher.PolygonalPrism(mpl.draw_polygon(area, axes, xy2ne=True),\n",
    "         300, 800, {'density': dens, 'magnetization': ang2vec(intens, inc, dec)})]"
   ]
  },
  {
   "cell_type": "code",
   "execution_count": 7,
   "metadata": {
    "collapsed": true
   },
   "outputs": [],
   "source": [
    "# Cria um dicionario para armazenar o corpo sintético\n",
    "# e algumas informações adicionais\n",
    "dicionario = dict()"
   ]
  },
  {
   "cell_type": "code",
   "execution_count": 8,
   "metadata": {
    "collapsed": true
   },
   "outputs": [],
   "source": [
    "dicionario['modelo'] = model\n",
    "dicionario['bounds'] = bounds\n",
    "now = datetime.datetime.utcnow().strftime('%d %B %Y %H:%M:%S UTC')\n",
    "dicionario['metadata'] = 'Generado em {date}'.format(date=now)"
   ]
  },
  {
   "cell_type": "code",
   "execution_count": 9,
   "metadata": {
    "collapsed": true
   },
   "outputs": [],
   "source": [
    "# Salva o modelo\n",
    "file_name = 'modelo1.pickle'\n",
    "with open(file_name, 'w') as f:\n",
    "    pickle.dump(dicionario, f)"
   ]
  },
  {
   "cell_type": "code",
   "execution_count": 10,
   "metadata": {
    "collapsed": true,
    "scrolled": true
   },
   "outputs": [],
   "source": [
    "# Visualização 3D do modelo\n",
    "scene = myv.figure(size=(1000, 1000))\n",
    "myv.polyprisms(dicionario['modelo'], 'density', linewidth=1)\n",
    "ax = myv.axes(myv.outline(extent=bounds), ranges=[b*0.001 for b in bounds], nlabels=3, fmt='%.1f')\n",
    "ax.axes.x_label, ax.axes.y_label, ax.axes.z_label = 'x (km)', 'y (km)', 'z (km)'\n",
    "ax.axes.font_factor = 1.1\n",
    "\n",
    "scene.scene.camera.position = [-10285.711532597004, -4660.5859200731429, -7061.7355305072397]\n",
    "scene.scene.camera.focal_point = [2499.9999999999982, 3499.9999999999895, 1000.0000000000016]\n",
    "scene.scene.camera.view_angle = 30.0\n",
    "scene.scene.camera.view_up = [0.41813667961260181, 0.21641901854051615, -0.88222702609731241]\n",
    "scene.scene.camera.clipping_range = [10005.031176570963, 26247.241897206357]\n",
    "scene.scene.camera.compute_view_plane_normal()\n",
    "scene.scene.render()\n",
    "\n",
    "myv.wall_north(bounds)\n",
    "myv.wall_bottom(bounds)\n",
    "myv.savefig('modelo1.png')\n",
    "myv.show()"
   ]
  },
  {
   "cell_type": "markdown",
   "metadata": {
    "collapsed": true
   },
   "source": [
    "<img src='modelo1.png', width = 600>"
   ]
  },
  {
   "cell_type": "code",
   "execution_count": null,
   "metadata": {
    "collapsed": true
   },
   "outputs": [],
   "source": []
  }
 ],
 "metadata": {
  "anaconda-cloud": {},
  "kernelspec": {
   "display_name": "Python 2",
   "language": "python",
   "name": "python2"
  },
  "language_info": {
   "codemirror_mode": {
    "name": "ipython",
    "version": 2
   },
   "file_extension": ".py",
   "mimetype": "text/x-python",
   "name": "python",
   "nbconvert_exporter": "python",
   "pygments_lexer": "ipython2",
   "version": "2.7.13"
  }
 },
 "nbformat": 4,
 "nbformat_minor": 1
}
